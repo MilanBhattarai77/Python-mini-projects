{
 "cells": [
  {
   "cell_type": "code",
   "execution_count": null,
   "id": "b0136ce1",
   "metadata": {},
   "outputs": [],
   "source": []
  },
  {
   "cell_type": "code",
   "execution_count": 10,
   "id": "2301dfd6",
   "metadata": {},
   "outputs": [
    {
     "name": "stdout",
     "output_type": "stream",
     "text": [
      "The library has 2 Books and The books are:\n",
      "Harry Porter\n",
      "Harry Porter2\n"
     ]
    }
   ],
   "source": [
    "class Library:\n",
    "    def __init__(self):\n",
    "        self.books=[]\n",
    "        self.noBooks=0\n",
    "        \n",
    "        \n",
    "    def addBooks(self, books):\n",
    "        self.books.append(books)\n",
    "        self.noBooks=len(self.books)\n",
    "        \n",
    "        \n",
    "    def showInfo(self):\n",
    "        print(f\"The library has {self.noBooks} Books and The books are:\")\n",
    "        \n",
    "        \n",
    "        for book in self.books:\n",
    "            print(book)\n",
    "            \n",
    "            \n",
    "l1=Library()\n",
    "l1.addBooks(\"Harry Porter\")\n",
    "l1.addBooks(\"Harry Porter2\")\n",
    "l1.showInfo()"
   ]
  },
  {
   "cell_type": "code",
   "execution_count": null,
   "id": "7391dbe5",
   "metadata": {},
   "outputs": [],
   "source": []
  }
 ],
 "metadata": {
  "kernelspec": {
   "display_name": "Python 3 (ipykernel)",
   "language": "python",
   "name": "python3"
  },
  "language_info": {
   "codemirror_mode": {
    "name": "ipython",
    "version": 3
   },
   "file_extension": ".py",
   "mimetype": "text/x-python",
   "name": "python",
   "nbconvert_exporter": "python",
   "pygments_lexer": "ipython3",
   "version": "3.11.3"
  }
 },
 "nbformat": 4,
 "nbformat_minor": 5
}
